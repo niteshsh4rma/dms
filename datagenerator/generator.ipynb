{
 "cells": [
  {
   "cell_type": "code",
   "execution_count": 2,
   "metadata": {},
   "outputs": [],
   "source": [
    "import numpy as np\n",
    "import os\n",
    "import cv2"
   ]
  },
  {
   "cell_type": "code",
   "execution_count": 14,
   "metadata": {},
   "outputs": [],
   "source": [
    "cap = cv2.VideoCapture(\"./videos/bottle.mp4\") # safe, drink, phone, bottle\n",
    "\n",
    "image_counter = 0\n",
    "\n",
    "while(cap.isOpened()):\n",
    "    ret, frame = cap.read()\n",
    "    \n",
    "    if not ret:\n",
    "        break\n",
    "    \n",
    "    height, width, channel = frame.shape\n",
    "    \n",
    "    frame = frame[:,160:560]\n",
    "    \n",
    "    frame = cv2.resize(frame, (400,400))\n",
    "    \n",
    "    frame = cv2.flip(frame, 1)\n",
    "    \n",
    "    cv2.imwrite(\"./images/drink/\" +  str(image_counter) + \".jpeg\", frame) # safe, drink, phone\n",
    "    \n",
    "    image_counter += 1\n",
    "    \n",
    "    cv2.imshow('video', frame)\n",
    "    if cv2.waitKey(30) & 0xFF == ord('q'):\n",
    "        break\n",
    "\n",
    "cap.release()\n",
    "cv2.destroyAllWindows()"
   ]
  },
  {
   "cell_type": "code",
   "execution_count": 20,
   "metadata": {},
   "outputs": [],
   "source": [
    "counter = 0\n",
    "\n",
    "path = \"../../datasetgenerator/images/safe/\"\n",
    "\n",
    "for item in os.listdir(path):\n",
    "    image = cv2.imread(path + \"/\" + item)\n",
    "    image = cv2.resize(image, (400,400))\n",
    "    cv2.imwrite(\"./images/safe/\" +  str(counter) + \".jpeg\", image) # safe, drink, phone\n",
    "    \n",
    "    counter += 1\n",
    "    \n"
   ]
  },
  {
   "cell_type": "code",
   "execution_count": null,
   "metadata": {},
   "outputs": [],
   "source": []
  }
 ],
 "metadata": {
  "kernelspec": {
   "display_name": "Python 3",
   "language": "python",
   "name": "python3"
  },
  "language_info": {
   "codemirror_mode": {
    "name": "ipython",
    "version": 3
   },
   "file_extension": ".py",
   "mimetype": "text/x-python",
   "name": "python",
   "nbconvert_exporter": "python",
   "pygments_lexer": "ipython3",
   "version": "3.8.2"
  }
 },
 "nbformat": 4,
 "nbformat_minor": 4
}
